{
 "cells": [
  {
   "cell_type": "code",
   "execution_count": 2,
   "id": "4079c840",
   "metadata": {},
   "outputs": [],
   "source": [
    "number = [i for i in range(0, 15, 2)]\n",
    "\n",
    "def factorial(num):\n",
    "    fact = 1\n",
    "    \n",
    "    for i in range(1, num+1):\n",
    "        fact = fact * i\n",
    "    \n",
    "    return fact"
   ]
  },
  {
   "cell_type": "code",
   "execution_count": 3,
   "id": "28758da1",
   "metadata": {},
   "outputs": [
    {
     "name": "stdout",
     "output_type": "stream",
     "text": [
      "0의 factorial : 1\n",
      "2의 factorial : 2\n",
      "4의 factorial : 24\n",
      "6의 factorial : 720\n",
      "8의 factorial : 40320\n",
      "10의 factorial : 3628800\n",
      "12의 factorial : 479001600\n",
      "14의 factorial : 87178291200\n"
     ]
    }
   ],
   "source": [
    "if __name__ == \"__main__\":\n",
    "    for num in number:\n",
    "        print(f\"{num}의 factorial : {factorial(num)}\")"
   ]
  },
  {
   "cell_type": "code",
   "execution_count": null,
   "id": "c2c3cb62",
   "metadata": {},
   "outputs": [],
   "source": []
  }
 ],
 "metadata": {
  "kernelspec": {
   "display_name": "Python 3 (ipykernel)",
   "language": "python",
   "name": "python3"
  },
  "language_info": {
   "codemirror_mode": {
    "name": "ipython",
    "version": 3
   },
   "file_extension": ".py",
   "mimetype": "text/x-python",
   "name": "python",
   "nbconvert_exporter": "python",
   "pygments_lexer": "ipython3",
   "version": "3.9.6"
  }
 },
 "nbformat": 4,
 "nbformat_minor": 5
}
